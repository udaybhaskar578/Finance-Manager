{
 "cells": [
  {
   "cell_type": "code",
   "execution_count": 1,
   "metadata": {},
   "outputs": [],
   "source": [
    "import pandas as pd\n",
    "import sqlite3\n",
    "\n",
    "from fm.data_processor import DataProcessor\n",
    "from fm import db, const"
   ]
  },
  {
   "cell_type": "code",
   "execution_count": 2,
   "metadata": {},
   "outputs": [],
   "source": [
    "dp = DataProcessor(const.DATA_FILE)\n",
    "dp.readCsv(parse_dates=['Date'])\n",
    "\n",
    "transactions = dp.dataFrame"
   ]
  },
  {
   "cell_type": "code",
   "execution_count": 3,
   "metadata": {},
   "outputs": [],
   "source": [
    "def read_csv(*args, **kwargs):\n",
    "    return pd.read_csv(const.DATA_FILE, *args, **kwargs)\n",
    "\n",
    "transactions = read_csv( parse_dates=['Date'])\n",
    "transactions.columns = transactions.columns.str.strip()\n",
    "transactions.columns = transactions.columns.str.replace(' ', '_')\n",
    "\n",
    "transactions.loc[transactions.Description == 'Xoom', ['Category']] = 'Transfer to INDIA'"
   ]
  },
  {
   "cell_type": "code",
   "execution_count": 4,
   "metadata": {},
   "outputs": [
    {
     "data": {
      "text/plain": [
       "Date                    datetime64[ns]\n",
       "Description                     object\n",
       "Original_Description            object\n",
       "Amount                         float64\n",
       "Transaction_Type                object\n",
       "Category                        object\n",
       "Account_Name                    object\n",
       "Labels                         float64\n",
       "Notes                          float64\n",
       "dtype: object"
      ]
     },
     "execution_count": 4,
     "metadata": {},
     "output_type": "execute_result"
    }
   ],
   "source": [
    "transactions.head()\n",
    "transactions.dtypes"
   ]
  },
  {
   "cell_type": "code",
   "execution_count": 5,
   "metadata": {},
   "outputs": [],
   "source": [
    "transDB = db.Database(const.DB_NAME, const.DATABASE , const.DATA_FILE)\n",
    "transDB.createDatabaseFromDataFrame(const.TABLE_NAME, transactions)"
   ]
  },
  {
   "cell_type": "code",
   "execution_count": 6,
   "metadata": {},
   "outputs": [
    {
     "data": {
      "text/plain": [
       "index                     int64\n",
       "Date                     object\n",
       "Description              object\n",
       "Original_Description     object\n",
       "Amount                  float64\n",
       "Transaction_Type         object\n",
       "Category                 object\n",
       "Account_Name             object\n",
       "Labels                   object\n",
       "Notes                    object\n",
       "dtype: object"
      ]
     },
     "execution_count": 6,
     "metadata": {},
     "output_type": "execute_result"
    }
   ],
   "source": [
    "conn = sqlite3.connect(const.DATABASE)\n",
    "df = pd.read_sql_query(\"select * from transactions;\", conn)\n",
    "df.dtypes"
   ]
  },
  {
   "cell_type": "code",
   "execution_count": 7,
   "metadata": {},
   "outputs": [
    {
     "data": {
      "text/html": [
       "<div>\n",
       "<style scoped>\n",
       "    .dataframe tbody tr th:only-of-type {\n",
       "        vertical-align: middle;\n",
       "    }\n",
       "\n",
       "    .dataframe tbody tr th {\n",
       "        vertical-align: top;\n",
       "    }\n",
       "\n",
       "    .dataframe thead th {\n",
       "        text-align: right;\n",
       "    }\n",
       "</style>\n",
       "<table border=\"1\" class=\"dataframe\">\n",
       "  <thead>\n",
       "    <tr style=\"text-align: right;\">\n",
       "      <th></th>\n",
       "      <th>index</th>\n",
       "      <th>Date</th>\n",
       "      <th>Description</th>\n",
       "      <th>Original_Description</th>\n",
       "      <th>Amount</th>\n",
       "      <th>Transaction_Type</th>\n",
       "      <th>Category</th>\n",
       "      <th>Account_Name</th>\n",
       "      <th>Labels</th>\n",
       "      <th>Notes</th>\n",
       "    </tr>\n",
       "  </thead>\n",
       "  <tbody>\n",
       "    <tr>\n",
       "      <th>0</th>\n",
       "      <td>0</td>\n",
       "      <td>2019-01-24 00:00:00</td>\n",
       "      <td>Abc Westca</td>\n",
       "      <td>ABC*WESTCA</td>\n",
       "      <td>49.00</td>\n",
       "      <td>debit</td>\n",
       "      <td>Gym</td>\n",
       "      <td>Cash rewards credit card</td>\n",
       "      <td>None</td>\n",
       "      <td>None</td>\n",
       "    </tr>\n",
       "    <tr>\n",
       "      <th>3</th>\n",
       "      <td>3</td>\n",
       "      <td>2019-01-24 00:00:00</td>\n",
       "      <td>Amazon</td>\n",
       "      <td>AMZN Pickup</td>\n",
       "      <td>16.45</td>\n",
       "      <td>debit</td>\n",
       "      <td>Shopping</td>\n",
       "      <td>Cash rewards credit card</td>\n",
       "      <td>None</td>\n",
       "      <td>None</td>\n",
       "    </tr>\n",
       "    <tr>\n",
       "      <th>1</th>\n",
       "      <td>1</td>\n",
       "      <td>2019-01-24 00:00:00</td>\n",
       "      <td>Uber.com</td>\n",
       "      <td>UBR* PENDING.UBER.COM</td>\n",
       "      <td>6.65</td>\n",
       "      <td>debit</td>\n",
       "      <td>Rental Car &amp; Taxi</td>\n",
       "      <td>Cash rewards credit card</td>\n",
       "      <td>None</td>\n",
       "      <td>None</td>\n",
       "    </tr>\n",
       "    <tr>\n",
       "      <th>2</th>\n",
       "      <td>2</td>\n",
       "      <td>2019-01-24 00:00:00</td>\n",
       "      <td>Aramark</td>\n",
       "      <td>ARAMARK CISCO THE QUARTER</td>\n",
       "      <td>6.16</td>\n",
       "      <td>debit</td>\n",
       "      <td>Food &amp; Dining</td>\n",
       "      <td>Cash rewards credit card</td>\n",
       "      <td>None</td>\n",
       "      <td>None</td>\n",
       "    </tr>\n",
       "    <tr>\n",
       "      <th>6</th>\n",
       "      <td>6</td>\n",
       "      <td>2019-01-23 00:00:00</td>\n",
       "      <td>Discover Bank</td>\n",
       "      <td>DISCOVER BANK DES:ETRANSFER ID:XXXXX79815 INDN...</td>\n",
       "      <td>6000.00</td>\n",
       "      <td>debit</td>\n",
       "      <td>Credit Card Payment</td>\n",
       "      <td>naren</td>\n",
       "      <td>None</td>\n",
       "      <td>None</td>\n",
       "    </tr>\n",
       "    <tr>\n",
       "      <th>7</th>\n",
       "      <td>7</td>\n",
       "      <td>2019-01-22 00:00:00</td>\n",
       "      <td>Safeway</td>\n",
       "      <td>THE MARKET (SAFEWAY) SAN JOSE CAAPPLE PAY ENDI...</td>\n",
       "      <td>10.41</td>\n",
       "      <td>debit</td>\n",
       "      <td>Groceries</td>\n",
       "      <td>Discover it Card</td>\n",
       "      <td>None</td>\n",
       "      <td>None</td>\n",
       "    </tr>\n",
       "    <tr>\n",
       "      <th>8</th>\n",
       "      <td>8</td>\n",
       "      <td>2019-01-22 00:00:00</td>\n",
       "      <td>Costco</td>\n",
       "      <td>COSTCO WHSE #0148 SAN JOSE CA</td>\n",
       "      <td>224.76</td>\n",
       "      <td>debit</td>\n",
       "      <td>Shopping</td>\n",
       "      <td>Cash rewards credit card</td>\n",
       "      <td>None</td>\n",
       "      <td>None</td>\n",
       "    </tr>\n",
       "    <tr>\n",
       "      <th>9</th>\n",
       "      <td>9</td>\n",
       "      <td>2019-01-22 00:00:00</td>\n",
       "      <td>Amazon</td>\n",
       "      <td>AMZN Mktp US*MB9CP8BM1 Amzn.com/billWA</td>\n",
       "      <td>16.33</td>\n",
       "      <td>debit</td>\n",
       "      <td>Shopping</td>\n",
       "      <td>Cash rewards credit card</td>\n",
       "      <td>None</td>\n",
       "      <td>None</td>\n",
       "    </tr>\n",
       "    <tr>\n",
       "      <th>10</th>\n",
       "      <td>10</td>\n",
       "      <td>2019-01-22 00:00:00</td>\n",
       "      <td>Aum</td>\n",
       "      <td>AUM DES:PAYMENT ID:XXXXX90617 INDN:Naren Mudiv...</td>\n",
       "      <td>104.63</td>\n",
       "      <td>debit</td>\n",
       "      <td>Utilities</td>\n",
       "      <td>naren</td>\n",
       "      <td>None</td>\n",
       "      <td>None</td>\n",
       "    </tr>\n",
       "    <tr>\n",
       "      <th>15</th>\n",
       "      <td>15</td>\n",
       "      <td>2019-01-21 00:00:00</td>\n",
       "      <td>Scoop Tech Weekly</td>\n",
       "      <td>SCOOP TECH INC WEEKLY 14159429122 CA</td>\n",
       "      <td>2.00</td>\n",
       "      <td>debit</td>\n",
       "      <td>Auto &amp; Transport</td>\n",
       "      <td>Cash rewards credit card</td>\n",
       "      <td>None</td>\n",
       "      <td>None</td>\n",
       "    </tr>\n",
       "  </tbody>\n",
       "</table>\n",
       "</div>"
      ],
      "text/plain": [
       "    index                 Date        Description  \\\n",
       "0       0  2019-01-24 00:00:00         Abc Westca   \n",
       "3       3  2019-01-24 00:00:00             Amazon   \n",
       "1       1  2019-01-24 00:00:00           Uber.com   \n",
       "2       2  2019-01-24 00:00:00            Aramark   \n",
       "6       6  2019-01-23 00:00:00      Discover Bank   \n",
       "7       7  2019-01-22 00:00:00            Safeway   \n",
       "8       8  2019-01-22 00:00:00             Costco   \n",
       "9       9  2019-01-22 00:00:00             Amazon   \n",
       "10     10  2019-01-22 00:00:00                Aum   \n",
       "15     15  2019-01-21 00:00:00  Scoop Tech Weekly   \n",
       "\n",
       "                                 Original_Description   Amount  \\\n",
       "0                                          ABC*WESTCA    49.00   \n",
       "3                                         AMZN Pickup    16.45   \n",
       "1                               UBR* PENDING.UBER.COM     6.65   \n",
       "2                           ARAMARK CISCO THE QUARTER     6.16   \n",
       "6   DISCOVER BANK DES:ETRANSFER ID:XXXXX79815 INDN...  6000.00   \n",
       "7   THE MARKET (SAFEWAY) SAN JOSE CAAPPLE PAY ENDI...    10.41   \n",
       "8                       COSTCO WHSE #0148 SAN JOSE CA   224.76   \n",
       "9              AMZN Mktp US*MB9CP8BM1 Amzn.com/billWA    16.33   \n",
       "10  AUM DES:PAYMENT ID:XXXXX90617 INDN:Naren Mudiv...   104.63   \n",
       "15               SCOOP TECH INC WEEKLY 14159429122 CA     2.00   \n",
       "\n",
       "   Transaction_Type             Category               Account_Name Labels  \\\n",
       "0             debit                  Gym  Cash rewards credit card    None   \n",
       "3             debit             Shopping  Cash rewards credit card    None   \n",
       "1             debit    Rental Car & Taxi  Cash rewards credit card    None   \n",
       "2             debit        Food & Dining  Cash rewards credit card    None   \n",
       "6             debit  Credit Card Payment                      naren   None   \n",
       "7             debit            Groceries           Discover it Card   None   \n",
       "8             debit             Shopping  Cash rewards credit card    None   \n",
       "9             debit             Shopping  Cash rewards credit card    None   \n",
       "10            debit            Utilities                      naren   None   \n",
       "15            debit     Auto & Transport  Cash rewards credit card    None   \n",
       "\n",
       "   Notes  \n",
       "0   None  \n",
       "3   None  \n",
       "1   None  \n",
       "2   None  \n",
       "6   None  \n",
       "7   None  \n",
       "8   None  \n",
       "9   None  \n",
       "10  None  \n",
       "15  None  "
      ]
     },
     "execution_count": 7,
     "metadata": {},
     "output_type": "execute_result"
    }
   ],
   "source": [
    "df.sort_values(ascending=False, by='Date', inplace=True)\n",
    "df.head(10)"
   ]
  },
  {
   "cell_type": "code",
   "execution_count": 8,
   "metadata": {},
   "outputs": [
    {
     "data": {
      "text/plain": [
       "<matplotlib.axes._subplots.AxesSubplot at 0x112e3b710>"
      ]
     },
     "execution_count": 8,
     "metadata": {},
     "output_type": "execute_result"
    },
    {
     "data": {
      "image/png": "[encoded data removed]",
      "text/plain": [
       "<Figure size 432x288 with 1 Axes>"
      ]
     },
     "metadata": {
      "needs_background": "light"
     },
     "output_type": "display_data"
    }
   ],
   "source": [
    "%matplotlib inline\n",
    "df.plot()"
   ]
  },
  {
   "cell_type": "code",
   "execution_count": 18,
   "metadata": {},
   "outputs": [
    {
     "name": "stdout",
     "output_type": "stream",
     "text": [
      "\n",
      "select sum(Amount) as amount, Category as category from transactions \n",
      "where \n",
      "transaction_type=='debit' \n",
      "group by Category;\n",
      "\n"
     ]
    }
   ],
   "source": [
    "from fm import queries\n",
    "from fm import utils\n",
    "startDate, endDate = utils.getLastNdaysStartAndEndDate(7)\n",
    "query=\"\"\"\n",
    "select sum(Amount) as amount, Category as category from transactions \n",
    "where \n",
    "transaction_type=='debit' \n",
    "group by Category;\n",
    "\"\"\"\n",
    "# query=queries.OVERALL_DATE_RANGE % (str(startDate), str(endDate))\n",
    "print(query)"
   ]
  },
  {
   "cell_type": "code",
   "execution_count": 15,
   "metadata": {},
   "outputs": [],
   "source": [
    "_df1 = transDB.execute(query)"
   ]
  },
  {
   "cell_type": "code",
   "execution_count": 16,
   "metadata": {},
   "outputs": [
    {
     "data": {
      "text/html": [
       "<div>\n",
       "<style scoped>\n",
       "    .dataframe tbody tr th:only-of-type {\n",
       "        vertical-align: middle;\n",
       "    }\n",
       "\n",
       "    .dataframe tbody tr th {\n",
       "        vertical-align: top;\n",
       "    }\n",
       "\n",
       "    .dataframe thead th {\n",
       "        text-align: right;\n",
       "    }\n",
       "</style>\n",
       "<table border=\"1\" class=\"dataframe\">\n",
       "  <thead>\n",
       "    <tr style=\"text-align: right;\">\n",
       "      <th></th>\n",
       "      <th>amount</th>\n",
       "      <th>category</th>\n",
       "    </tr>\n",
       "  </thead>\n",
       "  <tbody>\n",
       "    <tr>\n",
       "      <th>0</th>\n",
       "      <td>2.00</td>\n",
       "      <td>Auto &amp; Transport</td>\n",
       "    </tr>\n",
       "    <tr>\n",
       "      <th>1</th>\n",
       "      <td>220.50</td>\n",
       "      <td>Auto Insurance</td>\n",
       "    </tr>\n",
       "    <tr>\n",
       "      <th>2</th>\n",
       "      <td>200.00</td>\n",
       "      <td>Babysitter &amp; Daycare</td>\n",
       "    </tr>\n",
       "    <tr>\n",
       "      <th>3</th>\n",
       "      <td>5.00</td>\n",
       "      <td>Bank Fee</td>\n",
       "    </tr>\n",
       "    <tr>\n",
       "      <th>4</th>\n",
       "      <td>33.85</td>\n",
       "      <td>Books</td>\n",
       "    </tr>\n",
       "  </tbody>\n",
       "</table>\n",
       "</div>"
      ],
      "text/plain": [
       "   amount              category\n",
       "0    2.00      Auto & Transport\n",
       "1  220.50        Auto Insurance\n",
       "2  200.00  Babysitter & Daycare\n",
       "3    5.00              Bank Fee\n",
       "4   33.85                 Books"
      ]
     },
     "execution_count": 16,
     "metadata": {},
     "output_type": "execute_result"
    }
   ],
   "source": [
    "df1 = pd.DataFrame(_df1)\n",
    "df1.head()"
   ]
  },
  {
   "cell_type": "code",
   "execution_count": null,
   "metadata": {},
   "outputs": [],
   "source": []
  },
  {
   "cell_type": "code",
   "execution_count": null,
   "metadata": {},
   "outputs": [],
   "source": []
  },
  {
   "cell_type": "code",
   "execution_count": null,
   "metadata": {},
   "outputs": [],
   "source": []
  }
 ],
 "metadata": {
  "kernelspec": {
   "display_name": "Python 3",
   "language": "python",
   "name": "python3"
  },
  "language_info": {
   "codemirror_mode": {
    "name": "ipython",
    "version": 3
   },
   "file_extension": ".py",
   "mimetype": "text/x-python",
   "name": "python",
   "nbconvert_exporter": "python",
   "pygments_lexer": "ipython3",
   "version": "3.7.0"
  }
 },
 "nbformat": 4,
 "nbformat_minor": 2
}
